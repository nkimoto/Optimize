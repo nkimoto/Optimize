{
 "cells": [
  {
   "cell_type": "code",
   "execution_count": 2,
   "metadata": {},
   "outputs": [],
   "source": [
    "import math\n",
    "from scipy.optimize import minimize\n",
    "import matplotlib.pyplot as plt"
   ]
  },
  {
   "cell_type": "markdown",
   "metadata": {},
   "source": [
    "## Definition of objective function"
   ]
  },
  {
   "cell_type": "markdown",
   "metadata": {},
   "source": [
    "$$\n",
    "f(x,y)=(a−x)^2+b(y−x^2)^2\n",
    "$$"
   ]
  },
  {
   "cell_type": "code",
   "execution_count": 3,
   "metadata": {},
   "outputs": [],
   "source": [
    "def objective_function(X, a, b):\n",
    "    \"\"\"Rosenbrock's banana function \n",
    "    Args:\n",
    "        X: \n",
    "            X[0]:x\n",
    "            X[1]:y\n",
    "        a: param1\n",
    "        b: param2\n",
    "    \"\"\"\n",
    "    return (a - X[0])**2 + b * (X[1] - X[0]**2)**2"
   ]
  },
  {
   "cell_type": "markdown",
   "metadata": {},
   "source": [
    "## Nelder-Mead"
   ]
  },
  {
   "cell_type": "code",
   "execution_count": 4,
   "metadata": {},
   "outputs": [
    {
     "data": {
      "text/plain": [
       " final_simplex: (array([[1.41420186, 1.99996718],\n",
       "       [1.41423414, 2.00005711],\n",
       "       [1.414233  , 2.00005669]]), array([1.44630178e-10, 5.45553803e-10, 6.71605841e-10]))\n",
       "           fun: 1.446301782885471e-10\n",
       "       message: 'Optimization terminated successfully.'\n",
       "          nfev: 178\n",
       "           nit: 93\n",
       "        status: 0\n",
       "       success: True\n",
       "             x: array([1.41420186, 1.99996718])"
      ]
     },
     "execution_count": 4,
     "metadata": {},
     "output_type": "execute_result"
    }
   ],
   "source": [
    "a = math.sqrt(2)\n",
    "b = 100\n",
    "arg = (a, b)\n",
    "minimize(objective_function, [-1, 1.2], args=arg, method=\"Nelder-Mead\")"
   ]
  },
  {
   "cell_type": "markdown",
   "metadata": {},
   "source": [
    "Visualize the process of optimization"
   ]
  },
  {
   "cell_type": "code",
   "execution_count": 12,
   "metadata": {},
   "outputs": [
    {
     "name": "stdout",
     "output_type": "stream",
     "text": [
      "count\tx\ty\tf\n",
      "1\t-1.061164\t1.167454\t6.298758\n",
      "2\t-0.693743\t0.426743\t4.740897\n",
      "3\t-0.727047\t0.500402\t4.664489\n",
      "4\t-0.576543\t0.304110\t4.043153\n",
      "5\t-0.471721\t0.181918\t3.721611\n",
      "6\t-0.342229\t0.079586\t3.225976\n",
      "7\t-0.206316\t0.037086\t2.629120\n",
      "8\t-0.128193\t-0.012000\t2.459863\n",
      "9\t-0.010856\t-0.045612\t2.239946\n",
      "10\t0.070591\t-0.024190\t1.890429\n",
      "11\t0.196722\t0.014245\t1.542087\n",
      "12\t0.314848\t0.112355\t1.226096\n",
      "13\t0.423797\t0.163800\t1.005900\n",
      "14\t0.483925\t0.204945\t0.950926\n",
      "15\t0.529206\t0.253353\t0.854560\n",
      "16\t0.590590\t0.334425\t0.699010\n",
      "17\t0.674162\t0.432513\t0.595998\n",
      "18\t0.772228\t0.579052\t0.442017\n",
      "19\t0.854807\t0.729481\t0.313083\n",
      "20\t0.911311\t0.817831\t0.268928\n",
      "21\t1.005250\t0.986956\t0.222808\n",
      "22\t1.031241\t1.054466\t0.154756\n",
      "23\t1.133933\t1.271208\t0.099863\n",
      "24\t1.176896\t1.381381\t0.057691\n",
      "25\t1.234544\t1.514569\t0.041364\n",
      "26\t1.281671\t1.636236\t0.021720\n",
      "27\t1.313275\t1.725268\t0.010222\n",
      "28\t1.349919\t1.819228\t0.005067\n",
      "29\t1.380297\t1.901651\t0.002424\n",
      "30\t1.394576\t1.944599\t0.000392\n",
      "31\t1.410126\t1.987898\t0.000048\n",
      "32\t1.413111\t1.996834\t0.000001\n",
      "33\t1.414211\t1.999982\t0.000000\n",
      "34\t1.414201\t1.999965\t0.000000\n",
      "35\t1.414205\t1.999977\t0.000000\n"
     ]
    },
    {
     "data": {
      "image/png": "[encoded data removed]",
      "text/plain": [
       "<Figure size 640x480 with 1 Axes>"
      ]
     },
     "metadata": {},
     "output_type": "display_data"
    }
   ],
   "source": [
    "count = 0\n",
    "plt.figure()\n",
    "plt.style.use('ggplot')\n",
    "plt.xlim(1, 35)\n",
    "print('count\\tx\\ty\\tf')\n",
    "\n",
    "def cbf(X):\n",
    "    global count\n",
    "    count += 1\n",
    "    f = objective_function(X, a, b)\n",
    "    print('%d\\t%f\\t%f\\t%f' % (count, X[0], X[1], f))\n",
    "    plt.scatter(count, f, color='black')\n",
    "res = minimize(objective_function, [-1, 1.2], args=arg, callback=cbf)"
   ]
  },
  {
   "cell_type": "markdown",
   "metadata": {},
   "source": [
    "## Result"
   ]
  },
  {
   "cell_type": "code",
   "execution_count": 6,
   "metadata": {},
   "outputs": [
    {
     "data": {
      "text/plain": [
       "array([1.41420548, 1.99997714])"
      ]
     },
     "execution_count": 6,
     "metadata": {},
     "output_type": "execute_result"
    }
   ],
   "source": [
    "res.x"
   ]
  },
  {
   "cell_type": "code",
   "execution_count": null,
   "metadata": {},
   "outputs": [],
   "source": []
  }
 ],
 "metadata": {
  "kernelspec": {
   "display_name": "Python 3",
   "language": "python",
   "name": "python3"
  },
  "language_info": {
   "codemirror_mode": {
    "name": "ipython",
    "version": 3
   },
   "file_extension": ".py",
   "mimetype": "text/x-python",
   "name": "python",
   "nbconvert_exporter": "python",
   "pygments_lexer": "ipython3",
   "version": "3.7.4"
  }
 },
 "nbformat": 4,
 "nbformat_minor": 4
}
